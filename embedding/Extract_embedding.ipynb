{
 "cells": [
  {
   "cell_type": "code",
   "execution_count": null,
   "id": "08e5d765",
   "metadata": {},
   "outputs": [
    {
     "name": "stderr",
     "output_type": "stream",
     "text": [
      "/home/vedant/miniconda3/envs/hbt/lib/python3.11/site-packages/torch_geometric/graphgym/config.py:19: UserWarning: Could not define global config object. Please install 'yacs' via 'pip install yacs' in order to use GraphGym\n",
      "  warnings.warn(\"Could not define global config object. Please install \"\n",
      "/home/vedant/miniconda3/envs/hbt/lib/python3.11/site-packages/torch_geometric/graphgym/imports.py:14: UserWarning: Please install 'pytorch_lightning' via  'pip install pytorch_lightning' in order to use GraphGym\n",
      "  warnings.warn(\"Please install 'pytorch_lightning' via  \"\n"
     ]
    }
   ],
   "source": [
    "\n",
    "import torch\n",
    "import sys\n",
    "import os\n",
    "\n",
    "import argparse\n",
    "sys.path.append(os.path.dirname(rf\"Hypformer/hypformer.py\"))\n",
    "\n",
    "\n",
    "from hypformer import HypFormer  \n",
    "\n",
    "\n",
    "import numpy as np\n",
    "\n",
    "from sklearn.metrics import roc_auc_score\n",
    "\n",
    "\n",
    "\n",
    "import torch\n",
    "import torch.nn.functional as F\n",
    "import torch.optim as optim\n",
    "from torch_geometric.graphgym import train\n",
    "from torch_geometric.loader import DataLoader\n",
    "from torch_geometric.utils import scatter\n",
    "from torch_geometric.nn.pool import global_mean_pool\n",
    "\n",
    "\n",
    "from torch_geometric.loader import DataLoader\n",
    "from torch_geometric.nn import global_mean_pool\n",
    "from ogb.graphproppred import PygGraphPropPredDataset, Evaluator\n",
    "from torch_geometric.data import Data, Batch\n",
    "\n",
    "from tqdm import tqdm\n",
    "\n",
    "\n",
    "\n"
   ]
  },
  {
   "cell_type": "markdown",
   "id": "f9187408",
   "metadata": {},
   "source": [
    "### Loading Model\n"
   ]
  },
  {
   "cell_type": "code",
   "execution_count": null,
   "id": "fba4ed38",
   "metadata": {},
   "outputs": [],
   "source": [
    "args = argparse.Namespace()\n",
    "args.batch_size = 16\n",
    "args.hidden_dim = 128\n",
    "args.trans_num_layers = 2\n",
    "args.trans_num_heads = 4\n",
    "args.trans_dropout = 0.2\n",
    "args.lr = 1e-5\n",
    "args.weight_decay = 1e-4\n",
    "args.epochs = 5\n",
    "args.k_in = 1.0\n",
    "args.k_out = 1.0\n",
    "args.decoder_type = 'hyp'\n",
    "args.device = 'cuda:0' \n",
    "args.add_positional_encoding = False\n",
    "args.attention_type = 'full'\n",
    "args.power_k = 2\n",
    "args.trans_heads_concat = False\n",
    "args.aggregate = False\n",
    "args.extra_hyp_linears = 10\n",
    "\n",
    "model = HypFormer(\n",
    "    in_channels=3,\n",
    "    hidden_channels=1024,\n",
    "    extra_dims=[64,256,512,1024,2048,4096,2048,1024,512,1024,1024],\n",
    "    out_channels=2, \n",
    "    trans_num_layers=2,\n",
    "    trans_num_heads=8,\n",
    "    trans_dropout=0.1,\n",
    "    trans_use_bn=True,\n",
    "    trans_use_residual=True,\n",
    "    trans_use_weight=True,\n",
    "    trans_use_act=True,\n",
    "    args=args\n",
    ")\n"
   ]
  },
  {
   "cell_type": "code",
   "execution_count": 3,
   "id": "fc200357",
   "metadata": {},
   "outputs": [],
   "source": [
    "checkpoint_path = \"checkpoints/best_model.pt\"\n",
    "checkpoint = torch.load(checkpoint_path)\n"
   ]
  },
  {
   "cell_type": "code",
   "execution_count": 4,
   "id": "cea7bc3f",
   "metadata": {},
   "outputs": [
    {
     "name": "stdout",
     "output_type": "stream",
     "text": [
      "Loaded model from epoch 17 with validation ROC-AUC: 0.5347\n"
     ]
    }
   ],
   "source": [
    "model.load_state_dict(checkpoint['model_state_dict'])\n",
    "\n",
    "optimizer = torch.optim.AdamW(model.parameters(), lr=args.lr, weight_decay=args.weight_decay)\n",
    "optimizer.load_state_dict(checkpoint['optimizer_state_dict'])\n",
    "\n",
    "scheduler = torch.optim.lr_scheduler.CosineAnnealingLR(optimizer, T_max=args.epochs)\n",
    "scheduler.load_state_dict(checkpoint['scheduler_state_dict'])\n",
    "\n",
    "epoch = checkpoint['epoch']\n",
    "val_rocauc = checkpoint['val_rocauc']\n",
    "\n",
    "print(f\"Loaded model from epoch {epoch} with validation ROC-AUC: {val_rocauc:.4f}\")\n"
   ]
  },
  {
   "cell_type": "code",
   "execution_count": 5,
   "id": "7e6a0889",
   "metadata": {},
   "outputs": [],
   "source": [
    "model.eval()\n",
    "device = torch.device(\"cuda\" if torch.cuda.is_available() else \"cpu\")\n",
    "model = model.to(device)\n"
   ]
  },
  {
   "cell_type": "code",
   "execution_count": 7,
   "id": "21863b9b",
   "metadata": {},
   "outputs": [],
   "source": [
    "def prepare_dataloaders(batch_size):\n",
    "    dataset = PygGraphPropPredDataset(name='ogbg-molhiv')\n",
    "    splits = dataset.get_idx_split()\n",
    "    train_ds = dataset[splits['train']]\n",
    "    valid_ds = dataset[splits['valid']]\n",
    "    test_ds  = dataset[splits['test']]\n",
    "\n",
    "    train_loader = DataLoader(train_ds, batch_size=batch_size, shuffle=False)\n",
    "    valid_loader = DataLoader(valid_ds, batch_size=batch_size, shuffle=False)\n",
    "    test_loader  = DataLoader(test_ds,  batch_size=batch_size, shuffle=False)\n",
    "    return train_loader, valid_loader, test_loader, dataset.num_features"
   ]
  },
  {
   "cell_type": "code",
   "execution_count": 8,
   "id": "0f096acd",
   "metadata": {},
   "outputs": [],
   "source": [
    "train_loader, valid_loader, test_loader, in_channels = prepare_dataloaders(args.batch_size)"
   ]
  },
  {
   "cell_type": "markdown",
   "id": "a6d59e17",
   "metadata": {},
   "source": [
    "#### Extracting Embeddings"
   ]
  },
  {
   "cell_type": "code",
   "execution_count": null,
   "id": "865f3c2a",
   "metadata": {},
   "outputs": [],
   "source": [
    "from pathlib import Path\n",
    "import h5py\n",
    "\n",
    "def save_hyperbolic_embeddings(model, loader, device, save_path, layers=('fc3', 'fc11')):\n",
    "    model.eval()\n",
    "    save_path = Path(save_path)\n",
    "    save_path.parent.mkdir(parents=True, exist_ok=True)\n",
    "    \n",
    "    layer_dims = {}\n",
    "    for layer in layers:\n",
    "        layer_index = int(layer[2:]) \n",
    "        layer_dims[layer] = model.trans_conv.extra_dims[layer_index] + 1  # +1 for Lorentz time dim\n",
    "\n",
    "    with h5py.File(save_path, 'w') as hf:\n",
    "        graph_group = hf.create_group(\"graphs\")\n",
    "        metadata_group = hf.create_group(\"metadata\")\n",
    "        \n",
    "        hyperbolic_embeddings = {}\n",
    "        def get_activation(layer_name):\n",
    "            def hook(module, input, output):\n",
    "                hyperbolic_embeddings[layer_name] = output.detach().cpu()\n",
    "            return hook\n",
    "        \n",
    "        handles = []\n",
    "        for layer in layers:\n",
    "            handles.append(model.trans_conv.fcs[int(layer[2:])].register_forward_hook(get_activation(layer)))\n",
    "\n",
    "        graph_idx = 0\n",
    "        for batch in tqdm(loader, desc=\"Processing batches\"):\n",
    "\n",
    "            src, _ = batch.edge_index\n",
    "            batch.x = scatter(batch.edge_attr, src, \n",
    "                            dim=0, \n",
    "                            dim_size=batch.num_nodes,\n",
    "                            reduce='sum')\n",
    "            batch = batch.to(device)\n",
    "            \n",
    "            _ = model(batch.x)\n",
    "            \n",
    "\n",
    "            batch_indices = batch.batch.cpu().numpy()\n",
    "            unique_graphs = np.unique(batch_indices)\n",
    "            \n",
    "            for graph_num in unique_graphs:\n",
    "\n",
    "                graph_name = f\"graph_{graph_idx:06d}\"\n",
    "                current_group = graph_group.create_group(graph_name)\n",
    "                \n",
    "                node_mask = (batch_indices == graph_num)\n",
    "                \n",
    "                for layer in layers:\n",
    "                    emb = hyperbolic_embeddings[layer][node_mask].numpy()\n",
    "                    current_group.create_dataset(\n",
    "                        layer,\n",
    "                        data=emb,\n",
    "                        shape=emb.shape,\n",
    "                        compression='gzip'\n",
    "                    )\n",
    "                \n",
    "                current_group.create_dataset(\"label\", data=batch.y[graph_num].cpu().numpy())\n",
    "                current_group.attrs['num_nodes'] = np.sum(node_mask)\n",
    "                \n",
    "                graph_idx += 1\n",
    "\n",
    "        metadata_group.attrs['manifold'] = 'Lorentz'\n",
    "        metadata_group.attrs['curvature'] = model.trans_conv.manifold_hidden.k.item()\n",
    "        metadata_group.attrs['total_graphs'] = graph_idx\n",
    "        \n",
    "    for handle in handles:\n",
    "        handle.remove()\n"
   ]
  },
  {
   "cell_type": "code",
   "execution_count": 10,
   "id": "06cd7155",
   "metadata": {},
   "outputs": [
    {
     "name": "stderr",
     "output_type": "stream",
     "text": [
      "Processing batches: 100%|██████████| 258/258 [00:30<00:00,  8.36it/s]\n"
     ]
    }
   ],
   "source": [
    "save_hyperbolic_embeddings(model, test_loader, device, 'embedding/test_hyperbolic_embeddings.h5')"
   ]
  },
  {
   "cell_type": "code",
   "execution_count": 11,
   "id": "e37c8b36",
   "metadata": {},
   "outputs": [
    {
     "name": "stderr",
     "output_type": "stream",
     "text": [
      "Processing batches: 100%|██████████| 258/258 [00:32<00:00,  7.87it/s]\n"
     ]
    }
   ],
   "source": [
    "save_hyperbolic_embeddings(model, valid_loader, device, 'embedding/valid_hyperbolic_embeddings.h5')"
   ]
  },
  {
   "cell_type": "code",
   "execution_count": 12,
   "id": "7bc87d45",
   "metadata": {},
   "outputs": [
    {
     "name": "stderr",
     "output_type": "stream",
     "text": [
      "Processing batches: 100%|██████████| 2057/2057 [04:54<00:00,  7.00it/s]\n"
     ]
    }
   ],
   "source": [
    "save_hyperbolic_embeddings(model, train_loader, device, 'embedding/train_hyperbolic_embeddings.h5')"
   ]
  },
  {
   "cell_type": "markdown",
   "id": "910aa390",
   "metadata": {},
   "source": [
    "#### Code to load the embeddings\n"
   ]
  },
  {
   "cell_type": "code",
   "execution_count": null,
   "id": "7825775b",
   "metadata": {},
   "outputs": [],
   "source": [
    "from manifolds.lorentz import Lorentz \n",
    "\n",
    "def load_hyperbolic_embeddings(file_path, device='cpu'):\n",
    "    \"\"\"Load hyperbolic embeddings with manual geometric validation\"\"\"\n",
    "    with h5py.File(file_path, 'r') as hf:\n",
    "        # print(hf.keys())\n",
    "        k = hf['metadata'].attrs['curvature']\n",
    "        manifold = Lorentz(k=k)\n",
    "        \n",
    "        embeddings = {}\n",
    "        labels = []\n",
    "        \n",
    "        for graph_name in tqdm(hf['graphs'], desc=\"Loading graphs\"):\n",
    "            graph_group = hf['graphs'][graph_name]\n",
    "            # print(graph_group.keys())\n",
    "            \n",
    "            for layer in ['fc3', 'fc11']:  \n",
    "                emb_np = graph_group[layer][:]\n",
    "                emb = torch.from_numpy(emb_np).to(device)\n",
    "                \n",
    "  \n",
    "                time_dim = emb[..., 0]\n",
    "                space_dims = emb[..., 1:]\n",
    "                inner_product = -time_dim**2 + (space_dims**2).sum(dim=-1)\n",
    "             \n",
    "                if layer not in embeddings:\n",
    "                    embeddings[layer] = []\n",
    "                embeddings[layer].append(emb)\n",
    "            \n",
    "    \n",
    "            labels.append(torch.from_numpy(graph_group['label'][:]).to(device))\n",
    "        \n",
    "\n",
    "        metadata = {\n",
    "            'manifold': 'Lorentz',\n",
    "            'curvature': k,\n",
    "            'total_graphs': len(hf['graphs'])\n",
    "        }\n",
    "        \n",
    "    return embeddings, labels, metadata\n"
   ]
  },
  {
   "cell_type": "code",
   "execution_count": null,
   "id": "5467f75b",
   "metadata": {},
   "outputs": [
    {
     "name": "stderr",
     "output_type": "stream",
     "text": [
      "Loading graphs: 100%|██████████| 32901/32901 [02:24<00:00, 227.69it/s]\n"
     ]
    }
   ],
   "source": [
    "\n",
    "embeddings, labels, metadata = load_hyperbolic_embeddings(\n",
    "    'embedding/train_hyperbolic_embeddings.h5', \n",
    "    device='cuda'\n",
    ")\n",
    "\n",
    "manifold = metadata['manifold']\n"
   ]
  },
  {
   "cell_type": "code",
   "execution_count": null,
   "id": "e6f681be",
   "metadata": {},
   "outputs": [
    {
     "data": {
      "text/plain": [
       "list"
      ]
     },
     "execution_count": 9,
     "metadata": {},
     "output_type": "execute_result"
    }
   ],
   "source": [
    "\n",
    "type(embeddings['fc3'])"
   ]
  },
  {
   "cell_type": "code",
   "execution_count": 16,
   "id": "a0969c1b",
   "metadata": {},
   "outputs": [
    {
     "data": {
      "text/plain": [
       "32901"
      ]
     },
     "execution_count": 16,
     "metadata": {},
     "output_type": "execute_result"
    }
   ],
   "source": [
    "len(embeddings['fc3'])"
   ]
  },
  {
   "cell_type": "code",
   "execution_count": 20,
   "id": "b5141665",
   "metadata": {},
   "outputs": [
    {
     "data": {
      "text/plain": [
       "torch.Size([16, 1025])"
      ]
     },
     "execution_count": 20,
     "metadata": {},
     "output_type": "execute_result"
    }
   ],
   "source": [
    "embeddings['fc3'][2].shape"
   ]
  },
  {
   "cell_type": "markdown",
   "id": "26518915",
   "metadata": {},
   "source": [
    "#### DataLoader for the embeddings"
   ]
  },
  {
   "cell_type": "code",
   "execution_count": null,
   "id": "04f09e58",
   "metadata": {},
   "outputs": [],
   "source": [
    "class HyperbolicDataset(torch.utils.data.Dataset):\n",
    "    def __init__(self, file_path):\n",
    "        self.file_path = file_path\n",
    "        with h5py.File(file_path, 'r') as hf:\n",
    "            self.graph_names = list(hf['graphs'].keys())\n",
    "            \n",
    "    def __len__(self):\n",
    "        return len(self.graph_names)\n",
    "    \n",
    "    def __getitem__(self, idx):\n",
    "        with h5py.File(self.file_path, 'r') as hf:\n",
    "            group = hf['graphs'][self.graph_names[idx]]\n",
    "            return {\n",
    "                'fc3': torch.from_numpy(group['fc3'][:]),\n",
    "                'fc11': torch.from_numpy(group['fc11'][:]),\n",
    "                'label': torch.from_numpy(group['label'][:])\n",
    "            }"
   ]
  },
  {
   "cell_type": "code",
   "execution_count": null,
   "id": "4913b298",
   "metadata": {},
   "outputs": [],
   "source": [
    "\n",
    "dataset = HyperbolicDataset('embedding/train_hyperbolic_embeddings.h5')\n",
    "loader = torch.utils.data.DataLoader(dataset, batch_size=16, shuffle=True)\n"
   ]
  }
 ],
 "metadata": {
  "kernelspec": {
   "display_name": "hbt",
   "language": "python",
   "name": "python3"
  },
  "language_info": {
   "codemirror_mode": {
    "name": "ipython",
    "version": 3
   },
   "file_extension": ".py",
   "mimetype": "text/x-python",
   "name": "python",
   "nbconvert_exporter": "python",
   "pygments_lexer": "ipython3",
   "version": "3.11.11"
  }
 },
 "nbformat": 4,
 "nbformat_minor": 5
}
