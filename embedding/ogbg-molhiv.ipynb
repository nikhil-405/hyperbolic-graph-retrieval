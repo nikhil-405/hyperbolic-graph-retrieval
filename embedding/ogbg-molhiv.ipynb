{
 "cells": [
  {
   "cell_type": "code",
   "execution_count": null,
   "id": "initial_id",
   "metadata": {
    "ExecuteTime": {
     "end_time": "2025-04-20T12:06:20.898039Z",
     "start_time": "2025-04-20T12:06:16.222490Z"
    },
    "collapsed": true
   },
   "outputs": [
    {
     "name": "stderr",
     "output_type": "stream",
     "text": [
      "/home/vedant/miniconda3/envs/hbt/lib/python3.11/site-packages/torch_geometric/graphgym/config.py:19: UserWarning: Could not define global config object. Please install 'yacs' via 'pip install yacs' in order to use GraphGym\n",
      "  warnings.warn(\"Could not define global config object. Please install \"\n",
      "/home/vedant/miniconda3/envs/hbt/lib/python3.11/site-packages/torch_geometric/graphgym/imports.py:14: UserWarning: Please install 'pytorch_lightning' via  'pip install pytorch_lightning' in order to use GraphGym\n",
      "  warnings.warn(\"Please install 'pytorch_lightning' via  \"\n"
     ]
    }
   ],
   "source": [
    "import os\n",
    "import sys\n",
    "import logging\n",
    "from tqdm import tqdm\n",
    "import argparse\n",
    "\n",
    "import numpy as np\n",
    "from sklearn.metrics import roc_auc_score, average_precision_score, accuracy_score\n",
    "\n",
    "import torch\n",
    "import torch.nn.functional as F\n",
    "import torch.optim as optim\n",
    "\n",
    "from torch_geometric.graphgym import train\n",
    "from torch_geometric.loader import DataLoader\n",
    "from torch_geometric.utils import scatter\n",
    "from torch_geometric.nn.pool import global_mean_pool\n",
    "from torch_geometric.loader import DataLoader\n",
    "from torch_geometric.nn import global_mean_pool\n",
    "from torch_geometric.data import Data, Batch\n",
    "\n",
    "from ogb.graphproppred import PygGraphPropPredDataset, Evaluator\n",
    "from ogb.graphproppred import PygGraphPropPredDataset"
   ]
  },
  {
   "cell_type": "code",
   "execution_count": null,
   "id": "47425c4d192734a",
   "metadata": {
    "ExecuteTime": {
     "end_time": "2025-04-20T12:06:21.082364Z",
     "start_time": "2025-04-20T12:06:20.907908Z"
    }
   },
   "outputs": [],
   "source": [
    "sys.path.append(os.path.dirname(rf\"/home/vedant/hyperbolic-transformer/Hypformer/hypformer.py\"))\n",
    "from hypformer import HypFormer"
   ]
  },
  {
   "cell_type": "code",
   "execution_count": null,
   "id": "9aed08f3",
   "metadata": {},
   "outputs": [],
   "source": [
    "def prepare_dataloaders(batch_size):\n",
    "    dataset = PygGraphPropPredDataset(name = 'ogbg-molhiv')\n",
    "    splits = dataset.get_idx_split()\n",
    "    train_ds = dataset[splits['train']]\n",
    "    valid_ds = dataset[splits['valid']]\n",
    "    test_ds  = dataset[splits['test']]\n",
    "\n",
    "    train_loader = DataLoader(train_ds, batch_size = batch_size, shuffle = True)\n",
    "    valid_loader = DataLoader(valid_ds, batch_size = batch_size, shuffle = False)\n",
    "    test_loader = DataLoader(test_ds,  batch_size = batch_size, shuffle = False)\n",
    "    return train_loader, valid_loader, test_loader, dataset.num_features"
   ]
  },
  {
   "cell_type": "code",
   "execution_count": null,
   "id": "585dea2b49c75109",
   "metadata": {
    "ExecuteTime": {
     "end_time": "2025-04-20T12:06:21.335704Z",
     "start_time": "2025-04-20T12:06:21.330176Z"
    }
   },
   "outputs": [],
   "source": [
    "def train_epoch(model, loader, optimizer, device):\n",
    "    model.train()\n",
    "    total_loss = 0.0\n",
    "    i = 0\n",
    "\n",
    "    for data in tqdm(loader, desc=\"Training\"):\n",
    "        # aggregate 7‑dim edge_attr to node features\n",
    "        src, _ = data.edge_index\n",
    "        data.x = scatter(data.edge_attr, src,\n",
    "                            dim = 0,\n",
    "                            dim_size = data.num_nodes,\n",
    "                            reduce = 'sum')\n",
    "        data = data.to(device)\n",
    "\n",
    "        optimizer.zero_grad()\n",
    "        # HypFormer returns [num_nodes, out_channels]\n",
    "        node_logits = model(data.x)\n",
    "        # pool to graph‑level logits [batch_size, out_channels]\n",
    "        graph_logits = global_mean_pool(node_logits, data.batch)\n",
    "        loss = F.cross_entropy(graph_logits, data.y.view(-1))\n",
    "        loss.backward()\n",
    "        optimizer.step()\n",
    "        total_loss += loss.item()\n",
    "        # del data, loss, node_logits, graph_logits\n",
    "        # torch.cuda.empty_cache()\n",
    "        # print(i)\n",
    "        \n",
    "        i += 1\n",
    "    return total_loss / len(loader)"
   ]
  },
  {
   "cell_type": "code",
   "execution_count": null,
   "id": "cc51a468",
   "metadata": {},
   "outputs": [],
   "source": [
    "@torch.no_grad()\n",
    "def get_eval_loss(model, loader, device):\n",
    "    model.eval()\n",
    "    total_loss = 0.0\n",
    "    i = 0\n",
    "\n",
    "    for data in loader:\n",
    "        # aggregate 7‑dim edge_attr to node features\n",
    "        src, _ = data.edge_index\n",
    "        data.x = scatter(data.edge_attr, src,\n",
    "                            dim = 0,\n",
    "                            dim_size = data.num_nodes,\n",
    "                            reduce = 'sum')\n",
    "        data = data.to(device)\n",
    "\n",
    "        # HypFormer returns [num_nodes, out_channels]\n",
    "        node_logits = model(data.x)\n",
    "        # pool to graph‑level logits [batch_size, out_channels]\n",
    "        graph_logits = global_mean_pool(node_logits, data.batch)\n",
    "        loss = F.cross_entropy(graph_logits, data.y.view(-1))\n",
    "        total_loss += loss.item()\n",
    "        i += 1\n",
    "\n",
    "    return total_loss / len(loader)"
   ]
  },
  {
   "cell_type": "code",
   "execution_count": null,
   "id": "c53cec1d",
   "metadata": {},
   "outputs": [],
   "source": [
    "@torch.no_grad()\n",
    "def evaluate(model, loader, device):\n",
    "    model.eval()\n",
    "    y_true = []\n",
    "    y_prob = []\n",
    "    print(device)\n",
    "\n",
    "    for data in loader:\n",
    "        src, _ = data.edge_index\n",
    "        data.x = scatter(data.edge_attr, src,\n",
    "                              dim = 0,\n",
    "                              dim_size = data.num_nodes,\n",
    "                              reduce = 'sum')\n",
    "        data = data.to(device)\n",
    "\n",
    "        # forward pass\n",
    "        node_logits  = model(data.x)\n",
    "        graph_logits = global_mean_pool(node_logits, data.batch)\n",
    "\n",
    "        if graph_logits.shape[1] == 1:\n",
    "            probs = torch.sigmoid(graph_logits.view(-1))\n",
    "        else:\n",
    "            probs = torch.softmax(graph_logits, dim=1)[:, 1]\n",
    "\n",
    "        y_true.append(data.y.view(-1).cpu().numpy())\n",
    "        y_prob.append(probs.cpu().numpy())\n",
    "\n",
    "    # concatenate all batches\n",
    "    y_true = np.concatenate(y_true, axis = 0)\n",
    "    y_prob = np.concatenate(y_prob, axis = 0)\n",
    "    \n",
    "    return roc_auc_score(y_true, y_prob)"
   ]
  },
  {
   "cell_type": "code",
   "execution_count": 6,
   "metadata": {},
   "outputs": [],
   "source": [
    "# get_eval_loss(model, train_loader, device)"
   ]
  },
  {
   "cell_type": "code",
   "execution_count": null,
   "id": "564c6b51acde2e53",
   "metadata": {
    "ExecuteTime": {
     "end_time": "2025-04-20T12:06:21.375550Z",
     "start_time": "2025-04-20T12:06:21.369936Z"
    }
   },
   "outputs": [
    {
     "name": "stdout",
     "output_type": "stream",
     "text": [
      "{'batch_size': 16, 'hidden_dim': 128, 'trans_num_layers': 2, 'trans_num_heads': 4, 'trans_dropout': 0.2, 'lr': 1e-05, 'weight_decay': 0.0001, 'epochs': 5, 'k_in': 1.0, 'k_out': 1.0, 'decoder_type': 'hyp', 'device': 'cuda:0', 'add_positional_encoding': False, 'attention_type': 'full', 'power_k': 2, 'trans_heads_concat': False, 'aggregate': False, 'extra_hyp_linears': 10}\n"
     ]
    }
   ],
   "source": [
    "parser = argparse.ArgumentParser()\n",
    "\n",
    "# Original args\n",
    "parser.add_argument('--batch_size', type = int, default = 16) # TODO: Try larger batch size\n",
    "parser.add_argument('--hidden_dim', type = int, default = 128)\n",
    "parser.add_argument('--trans_num_layers', type = int, default = 2)\n",
    "parser.add_argument('--trans_num_heads', type = int, default = 4)\n",
    "parser.add_argument('--trans_dropout', type = float, default = 0.2)\n",
    "parser.add_argument('--lr', type = float, default = 1e-5)\n",
    "parser.add_argument('--weight_decay', type = float, default = 1e-4)\n",
    "parser.add_argument('--epochs', type = int, default = 5)\n",
    "parser.add_argument('--k_in', type = float, default = 1.0)\n",
    "parser.add_argument('--k_out', type = float, default = 1.0)\n",
    "parser.add_argument('--decoder_type', type = str, default = 'hyp')\n",
    "parser.add_argument('--device', type = str, default = 'cuda:0')\n",
    "parser.add_argument('--add_positional_encoding', action = 'store_true')\n",
    "parser.add_argument('--attention_type', type = str, default = 'full')\n",
    "parser.add_argument('--power_k', type = int, default = 2)\n",
    "parser.add_argument('--trans_heads_concat', action = 'store_true')\n",
    "parser.add_argument('--aggregate', action = 'store_true')\n",
    "parser.add_argument('--extra_hyp_linears', type = int, default = 10)\n",
    "args = parser.parse_args([])\n",
    "\n",
    "args_dict = vars(args)\n",
    "print(args_dict)"
   ]
  },
  {
   "cell_type": "code",
   "execution_count": 8,
   "id": "e622e22108ceeb38",
   "metadata": {
    "ExecuteTime": {
     "end_time": "2025-04-20T12:06:27.796155Z",
     "start_time": "2025-04-20T12:06:26.115435Z"
    }
   },
   "outputs": [],
   "source": [
    "train_loader, valid_loader, test_loader, in_channels = prepare_dataloaders(args.batch_size)"
   ]
  },
  {
   "cell_type": "code",
   "execution_count": null,
   "id": "d176f013",
   "metadata": {},
   "outputs": [],
   "source": [
    "# torch.cuda.empty_cache()"
   ]
  },
  {
   "cell_type": "code",
   "execution_count": null,
   "id": "58bc11423dbf5572",
   "metadata": {
    "ExecuteTime": {
     "end_time": "2025-04-20T12:06:33.111574Z",
     "start_time": "2025-04-20T12:06:30.984208Z"
    }
   },
   "outputs": [],
   "source": [
    "\n",
    "model = HypFormer(\n",
    "    in_channels = 3,\n",
    "    hidden_channels = 1024,\n",
    "    extra_dims = [64, 256, 512, 1024, 2048, 4096, 2048, 1024, 512, 1024, 1024],\n",
    "    out_channels = 2,  # binary classification\n",
    "    trans_num_layers = 2,\n",
    "    trans_num_heads = 8,\n",
    "    trans_dropout = 0.1,\n",
    "    trans_use_bn = True,\n",
    "    trans_use_residual = True,\n",
    "    trans_use_weight = True,\n",
    "    trans_use_act = True,\n",
    "    args = args\n",
    ")"
   ]
  },
  {
   "cell_type": "code",
   "execution_count": 13,
   "id": "573ab788",
   "metadata": {},
   "outputs": [],
   "source": [
    "device = \"cuda\"\n",
    "model = model.to(device)"
   ]
  },
  {
   "cell_type": "code",
   "execution_count": 14,
   "id": "25081730fb3dcf50",
   "metadata": {
    "ExecuteTime": {
     "end_time": "2025-04-20T12:06:33.136664Z",
     "start_time": "2025-04-20T12:06:33.131101Z"
    }
   },
   "outputs": [
    {
     "data": {
      "text/plain": [
       "132.052048"
      ]
     },
     "execution_count": 14,
     "metadata": {},
     "output_type": "execute_result"
    }
   ],
   "source": [
    "sum(p.numel() for p in model.parameters() if p.requires_grad)/10**6\n"
   ]
  },
  {
   "cell_type": "code",
   "execution_count": null,
   "id": "7229a7b346062133",
   "metadata": {
    "ExecuteTime": {
     "end_time": "2025-04-20T12:06:36.239005Z",
     "start_time": "2025-04-20T12:06:36.234867Z"
    }
   },
   "outputs": [],
   "source": [
    "from torch.optim.lr_scheduler import CosineAnnealingLR\n",
    "\n",
    "optimizer = optim.AdamW(model.parameters(), lr = args.lr, weight_decay = args.weight_decay)\n",
    "scheduler = CosineAnnealingLR(optimizer, T_max = args.epochs)"
   ]
  },
  {
   "cell_type": "code",
   "execution_count": null,
   "id": "a948425674fbd7c2",
   "metadata": {
    "ExecuteTime": {
     "end_time": "2025-04-19T06:27:27.615392Z",
     "start_time": "2025-04-19T06:27:27.383884Z"
    }
   },
   "outputs": [],
   "source": [
    "# torch.cuda.empty_cache()  # Releases all unused cached memory"
   ]
  },
  {
   "cell_type": "code",
   "execution_count": null,
   "id": "b90a3679ecceddac",
   "metadata": {
    "ExecuteTime": {
     "end_time": "2025-04-20T12:06:39.263811Z",
     "start_time": "2025-04-20T12:06:38.235750Z"
    }
   },
   "outputs": [
    {
     "name": "stdout",
     "output_type": "stream",
     "text": [
      "Epoch started!!\n"
     ]
    },
    {
     "name": "stderr",
     "output_type": "stream",
     "text": [
      "Training: 100%|██████████| 2057/2057 [10:59<00:00,  3.12it/s]\n"
     ]
    },
    {
     "name": "stdout",
     "output_type": "stream",
     "text": [
      "Epoch done!!\n",
      "cuda\n",
      "Eval ROC done!!\n",
      "Gradient done!!\n",
      "Val loss done!!\n",
      "[Epoch 001] LR: 0.000010 Train Loss: 0.1724 Val ROC-AUC: 0.4980Val Loss:0.0975\n",
      "New best model saved at epoch 1 with Val ROC-AUC: 0.4980\n",
      "Epoch started!!\n"
     ]
    },
    {
     "name": "stderr",
     "output_type": "stream",
     "text": [
      "Training: 100%|██████████| 2057/2057 [11:02<00:00,  3.11it/s]\n"
     ]
    },
    {
     "name": "stdout",
     "output_type": "stream",
     "text": [
      "Epoch done!!\n",
      "cuda\n",
      "Eval ROC done!!\n",
      "Gradient done!!\n",
      "Val loss done!!\n",
      "[Epoch 002] LR: 0.000009 Train Loss: 0.1601 Val ROC-AUC: 0.5084Val Loss:0.0985\n",
      "New best model saved at epoch 2 with Val ROC-AUC: 0.5084\n",
      "Epoch started!!\n"
     ]
    },
    {
     "name": "stderr",
     "output_type": "stream",
     "text": [
      "Training: 100%|██████████| 2057/2057 [09:56<00:00,  3.45it/s]\n"
     ]
    },
    {
     "name": "stdout",
     "output_type": "stream",
     "text": [
      "Epoch done!!\n",
      "cuda\n",
      "Eval ROC done!!\n",
      "Gradient done!!\n",
      "Val loss done!!\n",
      "[Epoch 003] LR: 0.000007 Train Loss: 0.1602 Val ROC-AUC: 0.5066Val Loss:0.0980\n",
      "Epoch started!!\n"
     ]
    },
    {
     "name": "stderr",
     "output_type": "stream",
     "text": [
      "Training: 100%|██████████| 2057/2057 [06:18<00:00,  5.44it/s]\n"
     ]
    },
    {
     "name": "stdout",
     "output_type": "stream",
     "text": [
      "Epoch done!!\n",
      "cuda\n",
      "Eval ROC done!!\n",
      "Gradient done!!\n",
      "Val loss done!!\n",
      "[Epoch 004] LR: 0.000003 Train Loss: 0.1598 Val ROC-AUC: 0.5062Val Loss:0.0974\n",
      "Epoch started!!\n"
     ]
    },
    {
     "name": "stderr",
     "output_type": "stream",
     "text": [
      "Training: 100%|██████████| 2057/2057 [06:11<00:00,  5.54it/s]\n"
     ]
    },
    {
     "name": "stdout",
     "output_type": "stream",
     "text": [
      "Epoch done!!\n",
      "cuda\n",
      "Eval ROC done!!\n",
      "Gradient done!!\n",
      "Val loss done!!\n",
      "[Epoch 005] LR: 0.000001 Train Loss: 0.1598 Val ROC-AUC: 0.5088Val Loss:0.0983\n",
      "New best model saved at epoch 5 with Val ROC-AUC: 0.5088\n",
      "Epoch started!!\n"
     ]
    },
    {
     "name": "stderr",
     "output_type": "stream",
     "text": [
      "Training: 100%|██████████| 2057/2057 [06:11<00:00,  5.54it/s]\n"
     ]
    },
    {
     "name": "stdout",
     "output_type": "stream",
     "text": [
      "Epoch done!!\n",
      "cuda\n",
      "Eval ROC done!!\n",
      "Gradient done!!\n",
      "Val loss done!!\n",
      "[Epoch 006] LR: 0.000000 Train Loss: 0.1597 Val ROC-AUC: 0.5088Val Loss:0.0983\n",
      "Epoch started!!\n"
     ]
    },
    {
     "name": "stderr",
     "output_type": "stream",
     "text": [
      "Training: 100%|██████████| 2057/2057 [06:12<00:00,  5.53it/s]\n"
     ]
    },
    {
     "name": "stdout",
     "output_type": "stream",
     "text": [
      "Epoch done!!\n",
      "cuda\n",
      "Eval ROC done!!\n",
      "Gradient done!!\n",
      "Val loss done!!\n",
      "[Epoch 007] LR: 0.000001 Train Loss: 0.1600 Val ROC-AUC: 0.5099Val Loss:0.0979\n",
      "New best model saved at epoch 7 with Val ROC-AUC: 0.5099\n",
      "Epoch started!!\n"
     ]
    },
    {
     "name": "stderr",
     "output_type": "stream",
     "text": [
      "Training: 100%|██████████| 2057/2057 [06:11<00:00,  5.54it/s]\n"
     ]
    },
    {
     "name": "stdout",
     "output_type": "stream",
     "text": [
      "Epoch done!!\n",
      "cuda\n",
      "Eval ROC done!!\n",
      "Gradient done!!\n",
      "Val loss done!!\n",
      "[Epoch 008] LR: 0.000003 Train Loss: 0.1598 Val ROC-AUC: 0.5119Val Loss:0.0977\n",
      "New best model saved at epoch 8 with Val ROC-AUC: 0.5119\n",
      "Epoch started!!\n"
     ]
    },
    {
     "name": "stderr",
     "output_type": "stream",
     "text": [
      "Training: 100%|██████████| 2057/2057 [06:05<00:00,  5.62it/s]\n"
     ]
    },
    {
     "name": "stdout",
     "output_type": "stream",
     "text": [
      "Epoch done!!\n",
      "cuda\n",
      "Eval ROC done!!\n",
      "Gradient done!!\n",
      "Val loss done!!\n",
      "[Epoch 009] LR: 0.000007 Train Loss: 0.1600 Val ROC-AUC: 0.5197Val Loss:0.0977\n",
      "New best model saved at epoch 9 with Val ROC-AUC: 0.5197\n",
      "Epoch started!!\n"
     ]
    },
    {
     "name": "stderr",
     "output_type": "stream",
     "text": [
      "Training: 100%|██████████| 2057/2057 [06:04<00:00,  5.64it/s]\n"
     ]
    },
    {
     "name": "stdout",
     "output_type": "stream",
     "text": [
      "Epoch done!!\n",
      "cuda\n",
      "Eval ROC done!!\n",
      "Gradient done!!\n",
      "Val loss done!!\n",
      "[Epoch 010] LR: 0.000009 Train Loss: 0.1598 Val ROC-AUC: 0.5311Val Loss:0.0984\n",
      "New best model saved at epoch 10 with Val ROC-AUC: 0.5311\n",
      "Epoch started!!\n"
     ]
    },
    {
     "name": "stderr",
     "output_type": "stream",
     "text": [
      "Training: 100%|██████████| 2057/2057 [06:04<00:00,  5.65it/s]\n"
     ]
    },
    {
     "name": "stdout",
     "output_type": "stream",
     "text": [
      "Epoch done!!\n",
      "cuda\n",
      "Eval ROC done!!\n",
      "Gradient done!!\n",
      "Val loss done!!\n",
      "[Epoch 011] LR: 0.000010 Train Loss: 0.1596 Val ROC-AUC: 0.5238Val Loss:0.0982\n",
      "Epoch started!!\n"
     ]
    },
    {
     "name": "stderr",
     "output_type": "stream",
     "text": [
      "Training: 100%|██████████| 2057/2057 [06:08<00:00,  5.59it/s]\n"
     ]
    },
    {
     "name": "stdout",
     "output_type": "stream",
     "text": [
      "Epoch done!!\n",
      "cuda\n",
      "Eval ROC done!!\n",
      "Gradient done!!\n",
      "Val loss done!!\n",
      "[Epoch 012] LR: 0.000009 Train Loss: 0.1594 Val ROC-AUC: 0.5335Val Loss:0.0989\n",
      "New best model saved at epoch 12 with Val ROC-AUC: 0.5335\n",
      "Epoch started!!\n"
     ]
    },
    {
     "name": "stderr",
     "output_type": "stream",
     "text": [
      "Training: 100%|██████████| 2057/2057 [06:11<00:00,  5.54it/s]\n"
     ]
    },
    {
     "name": "stdout",
     "output_type": "stream",
     "text": [
      "Epoch done!!\n",
      "cuda\n",
      "Eval ROC done!!\n",
      "Gradient done!!\n",
      "Val loss done!!\n",
      "[Epoch 013] LR: 0.000007 Train Loss: 0.1594 Val ROC-AUC: 0.5252Val Loss:0.0999\n",
      "Epoch started!!\n"
     ]
    },
    {
     "name": "stderr",
     "output_type": "stream",
     "text": [
      "Training: 100%|██████████| 2057/2057 [06:08<00:00,  5.58it/s]\n"
     ]
    },
    {
     "name": "stdout",
     "output_type": "stream",
     "text": [
      "Epoch done!!\n",
      "cuda\n",
      "Eval ROC done!!\n",
      "Gradient done!!\n",
      "Val loss done!!\n",
      "[Epoch 014] LR: 0.000003 Train Loss: 0.1593 Val ROC-AUC: 0.5342Val Loss:0.0983\n",
      "New best model saved at epoch 14 with Val ROC-AUC: 0.5342\n",
      "Epoch started!!\n"
     ]
    },
    {
     "name": "stderr",
     "output_type": "stream",
     "text": [
      "Training: 100%|██████████| 2057/2057 [06:10<00:00,  5.55it/s]\n"
     ]
    },
    {
     "name": "stdout",
     "output_type": "stream",
     "text": [
      "Epoch done!!\n",
      "cuda\n",
      "Eval ROC done!!\n",
      "Gradient done!!\n",
      "Val loss done!!\n",
      "[Epoch 015] LR: 0.000001 Train Loss: 0.1592 Val ROC-AUC: 0.5345Val Loss:0.0991\n",
      "New best model saved at epoch 15 with Val ROC-AUC: 0.5345\n",
      "Epoch started!!\n"
     ]
    },
    {
     "name": "stderr",
     "output_type": "stream",
     "text": [
      "Training: 100%|██████████| 2057/2057 [06:01<00:00,  5.70it/s]\n"
     ]
    },
    {
     "name": "stdout",
     "output_type": "stream",
     "text": [
      "Epoch done!!\n",
      "cuda\n",
      "Eval ROC done!!\n",
      "Gradient done!!\n",
      "Val loss done!!\n",
      "[Epoch 016] LR: 0.000000 Train Loss: 0.1592 Val ROC-AUC: 0.5345Val Loss:0.0991\n",
      "New best model saved at epoch 16 with Val ROC-AUC: 0.5345\n",
      "Epoch started!!\n"
     ]
    },
    {
     "name": "stderr",
     "output_type": "stream",
     "text": [
      "Training: 100%|██████████| 2057/2057 [06:10<00:00,  5.55it/s]\n"
     ]
    },
    {
     "name": "stdout",
     "output_type": "stream",
     "text": [
      "Epoch done!!\n",
      "cuda\n",
      "Eval ROC done!!\n",
      "Gradient done!!\n",
      "Val loss done!!\n",
      "[Epoch 017] LR: 0.000001 Train Loss: 0.1596 Val ROC-AUC: 0.5347Val Loss:0.0995\n",
      "New best model saved at epoch 17 with Val ROC-AUC: 0.5347\n",
      "Epoch started!!\n"
     ]
    },
    {
     "name": "stderr",
     "output_type": "stream",
     "text": [
      "Training: 100%|██████████| 2057/2057 [06:06<00:00,  5.61it/s]\n"
     ]
    },
    {
     "name": "stdout",
     "output_type": "stream",
     "text": [
      "Epoch done!!\n",
      "cuda\n",
      "Eval ROC done!!\n",
      "Gradient done!!\n",
      "Val loss done!!\n",
      "[Epoch 018] LR: 0.000003 Train Loss: 0.1595 Val ROC-AUC: 0.5347Val Loss:0.0991\n",
      "Epoch started!!\n"
     ]
    },
    {
     "name": "stderr",
     "output_type": "stream",
     "text": [
      "Training: 100%|██████████| 2057/2057 [06:06<00:00,  5.61it/s]\n"
     ]
    },
    {
     "name": "stdout",
     "output_type": "stream",
     "text": [
      "Epoch done!!\n",
      "cuda\n",
      "Eval ROC done!!\n",
      "Gradient done!!\n",
      "Val loss done!!\n",
      "[Epoch 019] LR: 0.000007 Train Loss: 0.1594 Val ROC-AUC: 0.5247Val Loss:0.1005\n",
      "Epoch started!!\n"
     ]
    },
    {
     "name": "stderr",
     "output_type": "stream",
     "text": [
      "Training: 100%|██████████| 2057/2057 [06:07<00:00,  5.60it/s]\n"
     ]
    },
    {
     "name": "stdout",
     "output_type": "stream",
     "text": [
      "Epoch done!!\n",
      "cuda\n",
      "Eval ROC done!!\n",
      "Gradient done!!\n",
      "Val loss done!!\n",
      "[Epoch 020] LR: 0.000009 Train Loss: 0.1596 Val ROC-AUC: 0.5300Val Loss:0.1016\n",
      "Epoch started!!\n"
     ]
    },
    {
     "name": "stderr",
     "output_type": "stream",
     "text": [
      "Training: 100%|██████████| 2057/2057 [06:09<00:00,  5.57it/s]\n"
     ]
    },
    {
     "name": "stdout",
     "output_type": "stream",
     "text": [
      "Epoch done!!\n",
      "cuda\n",
      "Eval ROC done!!\n",
      "Gradient done!!\n",
      "Val loss done!!\n",
      "[Epoch 021] LR: 0.000010 Train Loss: 0.1596 Val ROC-AUC: 0.5334Val Loss:0.0982\n",
      "Epoch started!!\n"
     ]
    },
    {
     "name": "stderr",
     "output_type": "stream",
     "text": [
      "Training: 100%|██████████| 2057/2057 [06:11<00:00,  5.54it/s]\n"
     ]
    },
    {
     "name": "stdout",
     "output_type": "stream",
     "text": [
      "Epoch done!!\n",
      "cuda\n",
      "Eval ROC done!!\n",
      "Gradient done!!\n",
      "Val loss done!!\n",
      "[Epoch 022] LR: 0.000009 Train Loss: 0.1594 Val ROC-AUC: 0.5335Val Loss:0.1003\n",
      "Epoch started!!\n"
     ]
    },
    {
     "name": "stderr",
     "output_type": "stream",
     "text": [
      "Training: 100%|██████████| 2057/2057 [06:16<00:00,  5.46it/s]\n"
     ]
    },
    {
     "name": "stdout",
     "output_type": "stream",
     "text": [
      "Epoch done!!\n",
      "cuda\n",
      "Eval ROC done!!\n",
      "Gradient done!!\n",
      "Val loss done!!\n",
      "[Epoch 023] LR: 0.000007 Train Loss: 0.1594 Val ROC-AUC: 0.5335Val Loss:0.0997\n",
      "Epoch started!!\n"
     ]
    },
    {
     "name": "stderr",
     "output_type": "stream",
     "text": [
      "Training: 100%|██████████| 2057/2057 [06:11<00:00,  5.54it/s]\n"
     ]
    },
    {
     "name": "stdout",
     "output_type": "stream",
     "text": [
      "Epoch done!!\n",
      "cuda\n",
      "Eval ROC done!!\n",
      "Gradient done!!\n",
      "Val loss done!!\n",
      "[Epoch 024] LR: 0.000003 Train Loss: 0.1592 Val ROC-AUC: 0.5334Val Loss:0.0995\n",
      "Epoch started!!\n"
     ]
    },
    {
     "name": "stderr",
     "output_type": "stream",
     "text": [
      "Training: 100%|██████████| 2057/2057 [06:11<00:00,  5.54it/s]\n"
     ]
    },
    {
     "name": "stdout",
     "output_type": "stream",
     "text": [
      "Epoch done!!\n",
      "cuda\n",
      "Eval ROC done!!\n",
      "Gradient done!!\n",
      "Val loss done!!\n",
      "[Epoch 025] LR: 0.000001 Train Loss: 0.1592 Val ROC-AUC: 0.5335Val Loss:0.0994\n",
      "Epoch started!!\n"
     ]
    },
    {
     "name": "stderr",
     "output_type": "stream",
     "text": [
      "Training: 100%|██████████| 2057/2057 [06:01<00:00,  5.69it/s]\n"
     ]
    },
    {
     "name": "stdout",
     "output_type": "stream",
     "text": [
      "Epoch done!!\n",
      "cuda\n",
      "Eval ROC done!!\n",
      "Gradient done!!\n",
      "Val loss done!!\n",
      "[Epoch 026] LR: 0.000000 Train Loss: 0.1592 Val ROC-AUC: 0.5335Val Loss:0.0994\n",
      "Epoch started!!\n"
     ]
    },
    {
     "name": "stderr",
     "output_type": "stream",
     "text": [
      "Training: 100%|██████████| 2057/2057 [05:59<00:00,  5.73it/s]\n"
     ]
    },
    {
     "name": "stdout",
     "output_type": "stream",
     "text": [
      "Epoch done!!\n",
      "cuda\n",
      "Eval ROC done!!\n",
      "Gradient done!!\n",
      "Val loss done!!\n",
      "[Epoch 027] LR: 0.000001 Train Loss: 0.1592 Val ROC-AUC: 0.5335Val Loss:0.0993\n",
      "Epoch started!!\n"
     ]
    },
    {
     "name": "stderr",
     "output_type": "stream",
     "text": [
      "Training: 100%|██████████| 2057/2057 [06:11<00:00,  5.54it/s]\n"
     ]
    },
    {
     "name": "stdout",
     "output_type": "stream",
     "text": [
      "Epoch done!!\n",
      "cuda\n",
      "Eval ROC done!!\n",
      "Gradient done!!\n",
      "Val loss done!!\n",
      "[Epoch 028] LR: 0.000003 Train Loss: 0.1592 Val ROC-AUC: 0.5335Val Loss:0.0991\n",
      "Epoch started!!\n"
     ]
    },
    {
     "name": "stderr",
     "output_type": "stream",
     "text": [
      "Training: 100%|██████████| 2057/2057 [06:21<00:00,  5.40it/s]\n"
     ]
    },
    {
     "name": "stdout",
     "output_type": "stream",
     "text": [
      "Epoch done!!\n",
      "cuda\n",
      "Eval ROC done!!\n",
      "Gradient done!!\n",
      "Val loss done!!\n",
      "[Epoch 029] LR: 0.000007 Train Loss: 0.1594 Val ROC-AUC: 0.5329Val Loss:0.0986\n",
      "Epoch started!!\n"
     ]
    },
    {
     "name": "stderr",
     "output_type": "stream",
     "text": [
      "Training: 100%|██████████| 2057/2057 [06:02<00:00,  5.68it/s]\n"
     ]
    },
    {
     "name": "stdout",
     "output_type": "stream",
     "text": [
      "Epoch done!!\n",
      "cuda\n",
      "Eval ROC done!!\n",
      "Gradient done!!\n",
      "Val loss done!!\n",
      "[Epoch 030] LR: 0.000009 Train Loss: 0.1596 Val ROC-AUC: 0.5326Val Loss:0.1008\n",
      "Epoch started!!\n"
     ]
    },
    {
     "name": "stderr",
     "output_type": "stream",
     "text": [
      "Training: 100%|██████████| 2057/2057 [06:02<00:00,  5.68it/s]\n"
     ]
    },
    {
     "name": "stdout",
     "output_type": "stream",
     "text": [
      "Epoch done!!\n",
      "cuda\n",
      "Eval ROC done!!\n",
      "Gradient done!!\n",
      "Val loss done!!\n",
      "[Epoch 031] LR: 0.000010 Train Loss: 0.1595 Val ROC-AUC: 0.5335Val Loss:0.0984\n",
      "Epoch started!!\n"
     ]
    },
    {
     "name": "stderr",
     "output_type": "stream",
     "text": [
      "Training: 100%|██████████| 2057/2057 [06:08<00:00,  5.59it/s]\n"
     ]
    },
    {
     "name": "stdout",
     "output_type": "stream",
     "text": [
      "Epoch done!!\n",
      "cuda\n",
      "Eval ROC done!!\n",
      "Gradient done!!\n",
      "Val loss done!!\n",
      "[Epoch 032] LR: 0.000009 Train Loss: 0.1595 Val ROC-AUC: 0.5343Val Loss:0.0981\n",
      "Epoch started!!\n"
     ]
    },
    {
     "name": "stderr",
     "output_type": "stream",
     "text": [
      "Training: 100%|██████████| 2057/2057 [06:09<00:00,  5.56it/s]\n"
     ]
    },
    {
     "name": "stdout",
     "output_type": "stream",
     "text": [
      "Epoch done!!\n",
      "cuda\n",
      "Eval ROC done!!\n",
      "Gradient done!!\n",
      "Val loss done!!\n",
      "[Epoch 033] LR: 0.000007 Train Loss: 0.1594 Val ROC-AUC: 0.5346Val Loss:0.1018\n",
      "Epoch started!!\n"
     ]
    },
    {
     "name": "stderr",
     "output_type": "stream",
     "text": [
      "Training: 100%|██████████| 2057/2057 [06:03<00:00,  5.67it/s]\n"
     ]
    },
    {
     "name": "stdout",
     "output_type": "stream",
     "text": [
      "Epoch done!!\n",
      "cuda\n",
      "Eval ROC done!!\n",
      "Gradient done!!\n",
      "Val loss done!!\n",
      "[Epoch 034] LR: 0.000003 Train Loss: 0.1593 Val ROC-AUC: 0.5335Val Loss:0.0982\n",
      "Epoch started!!\n"
     ]
    },
    {
     "name": "stderr",
     "output_type": "stream",
     "text": [
      "Training: 100%|██████████| 2057/2057 [06:07<00:00,  5.60it/s]\n"
     ]
    },
    {
     "name": "stdout",
     "output_type": "stream",
     "text": [
      "Epoch done!!\n",
      "cuda\n",
      "Eval ROC done!!\n",
      "Gradient done!!\n",
      "Val loss done!!\n",
      "[Epoch 035] LR: 0.000001 Train Loss: 0.1593 Val ROC-AUC: 0.5302Val Loss:0.0997\n",
      "Epoch started!!\n"
     ]
    },
    {
     "name": "stderr",
     "output_type": "stream",
     "text": [
      "Training: 100%|██████████| 2057/2057 [06:07<00:00,  5.60it/s]\n"
     ]
    },
    {
     "name": "stdout",
     "output_type": "stream",
     "text": [
      "Epoch done!!\n",
      "cuda\n",
      "Eval ROC done!!\n",
      "Gradient done!!\n",
      "Val loss done!!\n",
      "[Epoch 036] LR: 0.000000 Train Loss: 0.1593 Val ROC-AUC: 0.5302Val Loss:0.0997\n",
      "Epoch started!!\n"
     ]
    },
    {
     "name": "stderr",
     "output_type": "stream",
     "text": [
      "Training: 100%|██████████| 2057/2057 [06:06<00:00,  5.61it/s]\n"
     ]
    },
    {
     "name": "stdout",
     "output_type": "stream",
     "text": [
      "Epoch done!!\n",
      "cuda\n",
      "Eval ROC done!!\n",
      "Gradient done!!\n",
      "Val loss done!!\n",
      "[Epoch 037] LR: 0.000001 Train Loss: 0.1591 Val ROC-AUC: 0.5301Val Loss:0.0994\n",
      "Epoch started!!\n"
     ]
    },
    {
     "name": "stderr",
     "output_type": "stream",
     "text": [
      "Training: 100%|██████████| 2057/2057 [06:09<00:00,  5.57it/s]\n"
     ]
    },
    {
     "name": "stdout",
     "output_type": "stream",
     "text": [
      "Epoch done!!\n",
      "cuda\n",
      "Eval ROC done!!\n",
      "Gradient done!!\n",
      "Val loss done!!\n",
      "[Epoch 038] LR: 0.000003 Train Loss: 0.1592 Val ROC-AUC: 0.5285Val Loss:0.0990\n",
      "Epoch started!!\n"
     ]
    },
    {
     "name": "stderr",
     "output_type": "stream",
     "text": [
      "Training: 100%|██████████| 2057/2057 [06:07<00:00,  5.60it/s]\n"
     ]
    },
    {
     "name": "stdout",
     "output_type": "stream",
     "text": [
      "Epoch done!!\n",
      "cuda\n",
      "Eval ROC done!!\n",
      "Gradient done!!\n",
      "Val loss done!!\n",
      "[Epoch 039] LR: 0.000007 Train Loss: 0.1592 Val ROC-AUC: 0.5311Val Loss:0.0988\n",
      "Epoch started!!\n"
     ]
    },
    {
     "name": "stderr",
     "output_type": "stream",
     "text": [
      "Training: 100%|██████████| 2057/2057 [06:03<00:00,  5.66it/s]\n"
     ]
    },
    {
     "name": "stdout",
     "output_type": "stream",
     "text": [
      "Epoch done!!\n",
      "cuda\n",
      "Eval ROC done!!\n",
      "Gradient done!!\n",
      "Val loss done!!\n",
      "[Epoch 040] LR: 0.000009 Train Loss: 0.1594 Val ROC-AUC: 0.5257Val Loss:0.1001\n",
      "Epoch started!!\n"
     ]
    },
    {
     "name": "stderr",
     "output_type": "stream",
     "text": [
      "Training: 100%|██████████| 2057/2057 [06:05<00:00,  5.63it/s]\n"
     ]
    },
    {
     "name": "stdout",
     "output_type": "stream",
     "text": [
      "Epoch done!!\n",
      "cuda\n",
      "Eval ROC done!!\n",
      "Gradient done!!\n",
      "Val loss done!!\n",
      "[Epoch 041] LR: 0.000010 Train Loss: 0.1596 Val ROC-AUC: 0.5168Val Loss:0.1024\n",
      "Epoch started!!\n"
     ]
    },
    {
     "name": "stderr",
     "output_type": "stream",
     "text": [
      "Training: 100%|██████████| 2057/2057 [06:04<00:00,  5.64it/s]\n"
     ]
    },
    {
     "name": "stdout",
     "output_type": "stream",
     "text": [
      "Epoch done!!\n",
      "cuda\n",
      "Eval ROC done!!\n",
      "Gradient done!!\n",
      "Val loss done!!\n",
      "[Epoch 042] LR: 0.000009 Train Loss: 0.1592 Val ROC-AUC: 0.5183Val Loss:0.0993\n",
      "Epoch started!!\n"
     ]
    },
    {
     "name": "stderr",
     "output_type": "stream",
     "text": [
      "Training: 100%|██████████| 2057/2057 [06:07<00:00,  5.59it/s]\n"
     ]
    },
    {
     "name": "stdout",
     "output_type": "stream",
     "text": [
      "Epoch done!!\n",
      "cuda\n",
      "Eval ROC done!!\n",
      "Gradient done!!\n",
      "Val loss done!!\n",
      "[Epoch 043] LR: 0.000007 Train Loss: 0.1592 Val ROC-AUC: 0.5141Val Loss:0.0998\n",
      "Epoch started!!\n"
     ]
    },
    {
     "name": "stderr",
     "output_type": "stream",
     "text": [
      "Training: 100%|██████████| 2057/2057 [06:20<00:00,  5.41it/s]\n"
     ]
    },
    {
     "name": "stdout",
     "output_type": "stream",
     "text": [
      "Epoch done!!\n",
      "cuda\n",
      "Eval ROC done!!\n",
      "Gradient done!!\n",
      "Val loss done!!\n",
      "[Epoch 044] LR: 0.000003 Train Loss: 0.1590 Val ROC-AUC: 0.5114Val Loss:0.1007\n",
      "Epoch started!!\n"
     ]
    },
    {
     "name": "stderr",
     "output_type": "stream",
     "text": [
      "Training: 100%|██████████| 2057/2057 [06:11<00:00,  5.54it/s]\n"
     ]
    },
    {
     "name": "stdout",
     "output_type": "stream",
     "text": [
      "Epoch done!!\n",
      "cuda\n",
      "Eval ROC done!!\n",
      "Gradient done!!\n",
      "Val loss done!!\n",
      "[Epoch 045] LR: 0.000001 Train Loss: 0.1589 Val ROC-AUC: 0.5107Val Loss:0.1013\n",
      "Epoch started!!\n"
     ]
    },
    {
     "name": "stderr",
     "output_type": "stream",
     "text": [
      "Training: 100%|██████████| 2057/2057 [06:13<00:00,  5.50it/s]\n"
     ]
    },
    {
     "name": "stdout",
     "output_type": "stream",
     "text": [
      "Epoch done!!\n",
      "cuda\n",
      "Eval ROC done!!\n",
      "Gradient done!!\n",
      "Val loss done!!\n",
      "[Epoch 046] LR: 0.000000 Train Loss: 0.1592 Val ROC-AUC: 0.5107Val Loss:0.1013\n",
      "Epoch started!!\n"
     ]
    },
    {
     "name": "stderr",
     "output_type": "stream",
     "text": [
      "Training: 100%|██████████| 2057/2057 [06:05<00:00,  5.63it/s]\n"
     ]
    },
    {
     "name": "stdout",
     "output_type": "stream",
     "text": [
      "Epoch done!!\n",
      "cuda\n",
      "Eval ROC done!!\n",
      "Gradient done!!\n",
      "Val loss done!!\n",
      "[Epoch 047] LR: 0.000001 Train Loss: 0.1589 Val ROC-AUC: 0.5129Val Loss:0.0995\n",
      "Epoch started!!\n"
     ]
    },
    {
     "name": "stderr",
     "output_type": "stream",
     "text": [
      "Training: 100%|██████████| 2057/2057 [06:07<00:00,  5.60it/s]\n"
     ]
    },
    {
     "name": "stdout",
     "output_type": "stream",
     "text": [
      "Epoch done!!\n",
      "cuda\n",
      "Eval ROC done!!\n",
      "Gradient done!!\n",
      "Val loss done!!\n",
      "[Epoch 048] LR: 0.000003 Train Loss: 0.1590 Val ROC-AUC: 0.5120Val Loss:0.0991\n",
      "Epoch started!!\n"
     ]
    },
    {
     "name": "stderr",
     "output_type": "stream",
     "text": [
      "Training: 100%|██████████| 2057/2057 [06:12<00:00,  5.53it/s]\n"
     ]
    },
    {
     "name": "stdout",
     "output_type": "stream",
     "text": [
      "Epoch done!!\n",
      "cuda\n",
      "Eval ROC done!!\n",
      "Gradient done!!\n",
      "Val loss done!!\n",
      "[Epoch 049] LR: 0.000007 Train Loss: 0.1591 Val ROC-AUC: 0.5125Val Loss:0.0984\n",
      "Epoch started!!\n"
     ]
    },
    {
     "name": "stderr",
     "output_type": "stream",
     "text": [
      "Training: 100%|██████████| 2057/2057 [06:10<00:00,  5.55it/s]\n"
     ]
    },
    {
     "name": "stdout",
     "output_type": "stream",
     "text": [
      "Epoch done!!\n",
      "cuda\n",
      "Eval ROC done!!\n",
      "Gradient done!!\n",
      "Val loss done!!\n",
      "[Epoch 050] LR: 0.000009 Train Loss: 0.1592 Val ROC-AUC: 0.5123Val Loss:0.0988\n",
      "Epoch started!!\n"
     ]
    },
    {
     "name": "stderr",
     "output_type": "stream",
     "text": [
      "Training: 100%|██████████| 2057/2057 [06:08<00:00,  5.59it/s]\n"
     ]
    },
    {
     "name": "stdout",
     "output_type": "stream",
     "text": [
      "Epoch done!!\n",
      "cuda\n",
      "Eval ROC done!!\n",
      "Gradient done!!\n",
      "Val loss done!!\n",
      "[Epoch 051] LR: 0.000010 Train Loss: 0.1592 Val ROC-AUC: 0.5090Val Loss:0.0989\n",
      "Epoch started!!\n"
     ]
    },
    {
     "name": "stderr",
     "output_type": "stream",
     "text": [
      "Training: 100%|██████████| 2057/2057 [06:07<00:00,  5.60it/s]\n"
     ]
    },
    {
     "name": "stdout",
     "output_type": "stream",
     "text": [
      "Epoch done!!\n",
      "cuda\n",
      "Eval ROC done!!\n",
      "Gradient done!!\n",
      "Val loss done!!\n",
      "[Epoch 052] LR: 0.000009 Train Loss: 0.1590 Val ROC-AUC: 0.5039Val Loss:0.0982\n",
      "Epoch started!!\n"
     ]
    },
    {
     "name": "stderr",
     "output_type": "stream",
     "text": [
      "Training: 100%|██████████| 2057/2057 [06:09<00:00,  5.57it/s]\n"
     ]
    },
    {
     "name": "stdout",
     "output_type": "stream",
     "text": [
      "Epoch done!!\n",
      "cuda\n",
      "Eval ROC done!!\n",
      "Gradient done!!\n",
      "Val loss done!!\n",
      "[Epoch 053] LR: 0.000007 Train Loss: 0.1591 Val ROC-AUC: 0.4992Val Loss:0.1009\n",
      "Epoch started!!\n"
     ]
    },
    {
     "name": "stderr",
     "output_type": "stream",
     "text": [
      "Training: 100%|██████████| 2057/2057 [06:05<00:00,  5.62it/s]\n"
     ]
    },
    {
     "name": "stdout",
     "output_type": "stream",
     "text": [
      "Epoch done!!\n",
      "cuda\n",
      "Eval ROC done!!\n",
      "Gradient done!!\n",
      "Val loss done!!\n",
      "[Epoch 054] LR: 0.000003 Train Loss: 0.1590 Val ROC-AUC: 0.5013Val Loss:0.0996\n",
      "Epoch started!!\n"
     ]
    },
    {
     "name": "stderr",
     "output_type": "stream",
     "text": [
      "Training: 100%|██████████| 2057/2057 [06:09<00:00,  5.57it/s]\n"
     ]
    },
    {
     "name": "stdout",
     "output_type": "stream",
     "text": [
      "Epoch done!!\n",
      "cuda\n",
      "Eval ROC done!!\n",
      "Gradient done!!\n",
      "Val loss done!!\n",
      "[Epoch 055] LR: 0.000001 Train Loss: 0.1588 Val ROC-AUC: 0.4995Val Loss:0.1012\n",
      "Epoch started!!\n"
     ]
    },
    {
     "name": "stderr",
     "output_type": "stream",
     "text": [
      "Training: 100%|██████████| 2057/2057 [06:15<00:00,  5.48it/s]\n"
     ]
    },
    {
     "name": "stdout",
     "output_type": "stream",
     "text": [
      "Epoch done!!\n",
      "cuda\n",
      "Eval ROC done!!\n",
      "Gradient done!!\n",
      "Val loss done!!\n",
      "[Epoch 056] LR: 0.000000 Train Loss: 0.1591 Val ROC-AUC: 0.4995Val Loss:0.1012\n",
      "Epoch started!!\n"
     ]
    },
    {
     "name": "stderr",
     "output_type": "stream",
     "text": [
      "Training: 100%|██████████| 2057/2057 [06:11<00:00,  5.54it/s]\n"
     ]
    },
    {
     "name": "stdout",
     "output_type": "stream",
     "text": [
      "Epoch done!!\n",
      "cuda\n",
      "Eval ROC done!!\n",
      "Gradient done!!\n",
      "Val loss done!!\n",
      "[Epoch 057] LR: 0.000001 Train Loss: 0.1588 Val ROC-AUC: 0.5000Val Loss:0.0999\n",
      "Epoch started!!\n"
     ]
    },
    {
     "name": "stderr",
     "output_type": "stream",
     "text": [
      "Training: 100%|██████████| 2057/2057 [06:08<00:00,  5.58it/s]\n"
     ]
    },
    {
     "name": "stdout",
     "output_type": "stream",
     "text": [
      "Epoch done!!\n",
      "cuda\n",
      "Eval ROC done!!\n",
      "Gradient done!!\n",
      "Val loss done!!\n",
      "[Epoch 058] LR: 0.000003 Train Loss: 0.1589 Val ROC-AUC: 0.4973Val Loss:0.1024\n",
      "Epoch started!!\n"
     ]
    },
    {
     "name": "stderr",
     "output_type": "stream",
     "text": [
      "Training: 100%|██████████| 2057/2057 [06:06<00:00,  5.62it/s]\n"
     ]
    },
    {
     "name": "stdout",
     "output_type": "stream",
     "text": [
      "Epoch done!!\n",
      "cuda\n",
      "Eval ROC done!!\n",
      "Gradient done!!\n",
      "Val loss done!!\n",
      "[Epoch 059] LR: 0.000007 Train Loss: 0.1590 Val ROC-AUC: 0.4981Val Loss:0.1016\n",
      "Epoch started!!\n"
     ]
    },
    {
     "name": "stderr",
     "output_type": "stream",
     "text": [
      "Training: 100%|██████████| 2057/2057 [06:03<00:00,  5.65it/s]\n"
     ]
    },
    {
     "name": "stdout",
     "output_type": "stream",
     "text": [
      "Epoch done!!\n",
      "cuda\n",
      "Eval ROC done!!\n",
      "Gradient done!!\n",
      "Val loss done!!\n",
      "[Epoch 060] LR: 0.000009 Train Loss: 0.1591 Val ROC-AUC: 0.4955Val Loss:0.1034\n",
      "Epoch started!!\n"
     ]
    },
    {
     "name": "stderr",
     "output_type": "stream",
     "text": [
      "Training: 100%|██████████| 2057/2057 [06:04<00:00,  5.64it/s]\n"
     ]
    },
    {
     "name": "stdout",
     "output_type": "stream",
     "text": [
      "Epoch done!!\n",
      "cuda\n",
      "Eval ROC done!!\n",
      "Gradient done!!\n",
      "Val loss done!!\n",
      "[Epoch 061] LR: 0.000010 Train Loss: 0.1590 Val ROC-AUC: 0.4966Val Loss:0.0979\n",
      "Epoch started!!\n"
     ]
    },
    {
     "name": "stderr",
     "output_type": "stream",
     "text": [
      "Training: 100%|██████████| 2057/2057 [06:08<00:00,  5.58it/s]\n"
     ]
    },
    {
     "name": "stdout",
     "output_type": "stream",
     "text": [
      "Epoch done!!\n",
      "cuda\n",
      "Eval ROC done!!\n",
      "Gradient done!!\n",
      "Val loss done!!\n",
      "[Epoch 062] LR: 0.000009 Train Loss: 0.1591 Val ROC-AUC: 0.4919Val Loss:0.1006\n",
      "Epoch started!!\n"
     ]
    },
    {
     "name": "stderr",
     "output_type": "stream",
     "text": [
      "Training: 100%|██████████| 2057/2057 [06:09<00:00,  5.56it/s]\n"
     ]
    },
    {
     "name": "stdout",
     "output_type": "stream",
     "text": [
      "Epoch done!!\n",
      "cuda\n",
      "Eval ROC done!!\n",
      "Gradient done!!\n",
      "Val loss done!!\n",
      "[Epoch 063] LR: 0.000007 Train Loss: 0.1590 Val ROC-AUC: 0.4893Val Loss:0.0997\n",
      "Epoch started!!\n"
     ]
    },
    {
     "name": "stderr",
     "output_type": "stream",
     "text": [
      "Training: 100%|██████████| 2057/2057 [06:07<00:00,  5.60it/s]\n"
     ]
    },
    {
     "name": "stdout",
     "output_type": "stream",
     "text": [
      "Epoch done!!\n",
      "cuda\n",
      "Eval ROC done!!\n",
      "Gradient done!!\n",
      "Val loss done!!\n",
      "[Epoch 064] LR: 0.000003 Train Loss: 0.1589 Val ROC-AUC: 0.4905Val Loss:0.1004\n",
      "Epoch started!!\n"
     ]
    },
    {
     "name": "stderr",
     "output_type": "stream",
     "text": [
      "Training: 100%|██████████| 2057/2057 [06:07<00:00,  5.60it/s]\n"
     ]
    },
    {
     "name": "stdout",
     "output_type": "stream",
     "text": [
      "Epoch done!!\n",
      "cuda\n",
      "Eval ROC done!!\n",
      "Gradient done!!\n",
      "Val loss done!!\n",
      "[Epoch 065] LR: 0.000001 Train Loss: 0.1588 Val ROC-AUC: 0.4901Val Loss:0.1016\n",
      "Epoch started!!\n"
     ]
    },
    {
     "name": "stderr",
     "output_type": "stream",
     "text": [
      "Training: 100%|██████████| 2057/2057 [06:04<00:00,  5.64it/s]\n"
     ]
    },
    {
     "name": "stdout",
     "output_type": "stream",
     "text": [
      "Epoch done!!\n",
      "cuda\n",
      "Eval ROC done!!\n",
      "Gradient done!!\n",
      "Val loss done!!\n",
      "[Epoch 066] LR: 0.000000 Train Loss: 0.1588 Val ROC-AUC: 0.4901Val Loss:0.1016\n",
      "Epoch started!!\n"
     ]
    },
    {
     "name": "stderr",
     "output_type": "stream",
     "text": [
      "Training: 100%|██████████| 2057/2057 [06:07<00:00,  5.60it/s]\n"
     ]
    },
    {
     "name": "stdout",
     "output_type": "stream",
     "text": [
      "Epoch done!!\n",
      "cuda\n",
      "Eval ROC done!!\n",
      "Gradient done!!\n",
      "Val loss done!!\n",
      "[Epoch 067] LR: 0.000001 Train Loss: 0.1590 Val ROC-AUC: 0.4901Val Loss:0.1017\n",
      "Epoch started!!\n"
     ]
    },
    {
     "name": "stderr",
     "output_type": "stream",
     "text": [
      "Training: 100%|██████████| 2057/2057 [06:11<00:00,  5.54it/s]\n"
     ]
    },
    {
     "name": "stdout",
     "output_type": "stream",
     "text": [
      "Epoch done!!\n",
      "cuda\n",
      "Eval ROC done!!\n",
      "Gradient done!!\n",
      "Val loss done!!\n",
      "[Epoch 068] LR: 0.000003 Train Loss: 0.1591 Val ROC-AUC: 0.4899Val Loss:0.1020\n",
      "Epoch started!!\n"
     ]
    },
    {
     "name": "stderr",
     "output_type": "stream",
     "text": [
      "Training: 100%|██████████| 2057/2057 [06:13<00:00,  5.51it/s]\n"
     ]
    },
    {
     "name": "stdout",
     "output_type": "stream",
     "text": [
      "Epoch done!!\n",
      "cuda\n",
      "Eval ROC done!!\n",
      "Gradient done!!\n",
      "Val loss done!!\n",
      "[Epoch 069] LR: 0.000007 Train Loss: 0.1591 Val ROC-AUC: 0.4903Val Loss:0.1022\n",
      "Epoch started!!\n"
     ]
    },
    {
     "name": "stderr",
     "output_type": "stream",
     "text": [
      "Training: 100%|██████████| 2057/2057 [06:12<00:00,  5.53it/s]\n"
     ]
    },
    {
     "name": "stdout",
     "output_type": "stream",
     "text": [
      "Epoch done!!\n",
      "cuda\n",
      "Eval ROC done!!\n",
      "Gradient done!!\n",
      "Val loss done!!\n",
      "[Epoch 070] LR: 0.000009 Train Loss: 0.1590 Val ROC-AUC: 0.4884Val Loss:0.1019\n",
      "Epoch started!!\n"
     ]
    },
    {
     "name": "stderr",
     "output_type": "stream",
     "text": [
      "Training: 100%|██████████| 2057/2057 [06:09<00:00,  5.57it/s]\n"
     ]
    },
    {
     "name": "stdout",
     "output_type": "stream",
     "text": [
      "Epoch done!!\n",
      "cuda\n",
      "Eval ROC done!!\n",
      "Gradient done!!\n",
      "Val loss done!!\n",
      "[Epoch 071] LR: 0.000010 Train Loss: 0.1590 Val ROC-AUC: 0.4920Val Loss:0.0991\n",
      "Epoch started!!\n"
     ]
    },
    {
     "name": "stderr",
     "output_type": "stream",
     "text": [
      "Training: 100%|██████████| 2057/2057 [06:10<00:00,  5.55it/s]\n"
     ]
    },
    {
     "name": "stdout",
     "output_type": "stream",
     "text": [
      "Epoch done!!\n",
      "cuda\n",
      "Eval ROC done!!\n",
      "Gradient done!!\n",
      "Val loss done!!\n",
      "[Epoch 072] LR: 0.000009 Train Loss: 0.1591 Val ROC-AUC: 0.4878Val Loss:0.1033\n",
      "Epoch started!!\n"
     ]
    },
    {
     "name": "stderr",
     "output_type": "stream",
     "text": [
      "Training: 100%|██████████| 2057/2057 [06:11<00:00,  5.53it/s]\n"
     ]
    },
    {
     "name": "stdout",
     "output_type": "stream",
     "text": [
      "Epoch done!!\n",
      "cuda\n",
      "Eval ROC done!!\n",
      "Gradient done!!\n",
      "Val loss done!!\n",
      "[Epoch 073] LR: 0.000007 Train Loss: 0.1590 Val ROC-AUC: 0.4886Val Loss:0.1016\n",
      "Epoch started!!\n"
     ]
    },
    {
     "name": "stderr",
     "output_type": "stream",
     "text": [
      "Training: 100%|██████████| 2057/2057 [06:14<00:00,  5.50it/s]\n"
     ]
    },
    {
     "name": "stdout",
     "output_type": "stream",
     "text": [
      "Epoch done!!\n",
      "cuda\n",
      "Eval ROC done!!\n",
      "Gradient done!!\n",
      "Val loss done!!\n",
      "[Epoch 074] LR: 0.000003 Train Loss: 0.1589 Val ROC-AUC: 0.4877Val Loss:0.1030\n",
      "Epoch started!!\n"
     ]
    },
    {
     "name": "stderr",
     "output_type": "stream",
     "text": [
      "Training: 100%|██████████| 2057/2057 [06:12<00:00,  5.52it/s]\n"
     ]
    },
    {
     "name": "stdout",
     "output_type": "stream",
     "text": [
      "Epoch done!!\n",
      "cuda\n",
      "Eval ROC done!!\n",
      "Gradient done!!\n",
      "Val loss done!!\n",
      "[Epoch 075] LR: 0.000001 Train Loss: 0.1588 Val ROC-AUC: 0.4884Val Loss:0.1007\n",
      "Epoch started!!\n"
     ]
    },
    {
     "name": "stderr",
     "output_type": "stream",
     "text": [
      "Training: 100%|██████████| 2057/2057 [06:11<00:00,  5.54it/s]\n"
     ]
    },
    {
     "name": "stdout",
     "output_type": "stream",
     "text": [
      "Epoch done!!\n",
      "cuda\n",
      "Eval ROC done!!\n",
      "Gradient done!!\n",
      "Val loss done!!\n",
      "[Epoch 076] LR: 0.000000 Train Loss: 0.1588 Val ROC-AUC: 0.4884Val Loss:0.1007\n",
      "Epoch started!!\n"
     ]
    },
    {
     "name": "stderr",
     "output_type": "stream",
     "text": [
      "Training: 100%|██████████| 2057/2057 [06:09<00:00,  5.57it/s]\n"
     ]
    },
    {
     "name": "stdout",
     "output_type": "stream",
     "text": [
      "Epoch done!!\n",
      "cuda\n",
      "Eval ROC done!!\n",
      "Gradient done!!\n",
      "Val loss done!!\n",
      "[Epoch 077] LR: 0.000001 Train Loss: 0.1588 Val ROC-AUC: 0.4878Val Loss:0.1016\n",
      "Epoch started!!\n"
     ]
    },
    {
     "name": "stderr",
     "output_type": "stream",
     "text": [
      "Training: 100%|██████████| 2057/2057 [06:11<00:00,  5.53it/s]\n"
     ]
    },
    {
     "name": "stdout",
     "output_type": "stream",
     "text": [
      "Epoch done!!\n",
      "cuda\n",
      "Eval ROC done!!\n",
      "Gradient done!!\n",
      "Val loss done!!\n",
      "[Epoch 078] LR: 0.000003 Train Loss: 0.1588 Val ROC-AUC: 0.4877Val Loss:0.1015\n",
      "Epoch started!!\n"
     ]
    },
    {
     "name": "stderr",
     "output_type": "stream",
     "text": [
      "Training: 100%|██████████| 2057/2057 [06:08<00:00,  5.59it/s]\n"
     ]
    },
    {
     "name": "stdout",
     "output_type": "stream",
     "text": [
      "Epoch done!!\n",
      "cuda\n",
      "Eval ROC done!!\n",
      "Gradient done!!\n",
      "Val loss done!!\n",
      "[Epoch 079] LR: 0.000007 Train Loss: 0.1588 Val ROC-AUC: 0.4895Val Loss:0.0987\n",
      "Epoch started!!\n"
     ]
    },
    {
     "name": "stderr",
     "output_type": "stream",
     "text": [
      "Training: 100%|██████████| 2057/2057 [06:02<00:00,  5.67it/s]\n"
     ]
    },
    {
     "name": "stdout",
     "output_type": "stream",
     "text": [
      "Epoch done!!\n",
      "cuda\n",
      "Eval ROC done!!\n",
      "Gradient done!!\n",
      "Val loss done!!\n",
      "[Epoch 080] LR: 0.000009 Train Loss: 0.1590 Val ROC-AUC: 0.4837Val Loss:0.1034\n",
      "Epoch started!!\n"
     ]
    },
    {
     "name": "stderr",
     "output_type": "stream",
     "text": [
      "Training: 100%|██████████| 2057/2057 [06:10<00:00,  5.55it/s]\n"
     ]
    },
    {
     "name": "stdout",
     "output_type": "stream",
     "text": [
      "Epoch done!!\n",
      "cuda\n",
      "Eval ROC done!!\n",
      "Gradient done!!\n",
      "Val loss done!!\n",
      "[Epoch 081] LR: 0.000010 Train Loss: 0.1592 Val ROC-AUC: 0.4804Val Loss:0.1026\n",
      "Epoch started!!\n"
     ]
    },
    {
     "name": "stderr",
     "output_type": "stream",
     "text": [
      "Training: 100%|██████████| 2057/2057 [06:06<00:00,  5.61it/s]\n"
     ]
    },
    {
     "name": "stdout",
     "output_type": "stream",
     "text": [
      "Epoch done!!\n",
      "cuda\n",
      "Eval ROC done!!\n",
      "Gradient done!!\n",
      "Val loss done!!\n",
      "[Epoch 082] LR: 0.000009 Train Loss: 0.1590 Val ROC-AUC: 0.4842Val Loss:0.1043\n",
      "Epoch started!!\n"
     ]
    },
    {
     "name": "stderr",
     "output_type": "stream",
     "text": [
      "Training: 100%|██████████| 2057/2057 [06:07<00:00,  5.60it/s]\n"
     ]
    },
    {
     "name": "stdout",
     "output_type": "stream",
     "text": [
      "Epoch done!!\n",
      "cuda\n",
      "Eval ROC done!!\n",
      "Gradient done!!\n",
      "Val loss done!!\n",
      "[Epoch 083] LR: 0.000007 Train Loss: 0.1590 Val ROC-AUC: 0.4849Val Loss:0.1024\n",
      "Epoch started!!\n"
     ]
    },
    {
     "name": "stderr",
     "output_type": "stream",
     "text": [
      "Training: 100%|██████████| 2057/2057 [06:08<00:00,  5.59it/s]\n"
     ]
    },
    {
     "name": "stdout",
     "output_type": "stream",
     "text": [
      "Epoch done!!\n",
      "cuda\n",
      "Eval ROC done!!\n",
      "Gradient done!!\n",
      "Val loss done!!\n",
      "[Epoch 084] LR: 0.000003 Train Loss: 0.1589 Val ROC-AUC: 0.4844Val Loss:0.1015\n",
      "Epoch started!!\n"
     ]
    },
    {
     "name": "stderr",
     "output_type": "stream",
     "text": [
      "Training: 100%|██████████| 2057/2057 [06:10<00:00,  5.56it/s]\n"
     ]
    },
    {
     "name": "stdout",
     "output_type": "stream",
     "text": [
      "Epoch done!!\n",
      "cuda\n",
      "Eval ROC done!!\n",
      "Gradient done!!\n",
      "Val loss done!!\n",
      "[Epoch 085] LR: 0.000001 Train Loss: 0.1588 Val ROC-AUC: 0.4843Val Loss:0.1017\n",
      "Epoch started!!\n"
     ]
    },
    {
     "name": "stderr",
     "output_type": "stream",
     "text": [
      "Training: 100%|██████████| 2057/2057 [06:07<00:00,  5.60it/s]\n"
     ]
    },
    {
     "name": "stdout",
     "output_type": "stream",
     "text": [
      "Epoch done!!\n",
      "cuda\n",
      "Eval ROC done!!\n",
      "Gradient done!!\n",
      "Val loss done!!\n",
      "[Epoch 086] LR: 0.000000 Train Loss: 0.1587 Val ROC-AUC: 0.4843Val Loss:0.1017\n",
      "Epoch started!!\n"
     ]
    },
    {
     "name": "stderr",
     "output_type": "stream",
     "text": [
      "Training: 100%|██████████| 2057/2057 [06:06<00:00,  5.62it/s]\n"
     ]
    },
    {
     "name": "stdout",
     "output_type": "stream",
     "text": [
      "Epoch done!!\n",
      "cuda\n",
      "Eval ROC done!!\n",
      "Gradient done!!\n",
      "Val loss done!!\n",
      "[Epoch 087] LR: 0.000001 Train Loss: 0.1588 Val ROC-AUC: 0.4844Val Loss:0.1011\n",
      "Epoch started!!\n"
     ]
    },
    {
     "name": "stderr",
     "output_type": "stream",
     "text": [
      "Training: 100%|██████████| 2057/2057 [06:05<00:00,  5.63it/s]\n"
     ]
    },
    {
     "name": "stdout",
     "output_type": "stream",
     "text": [
      "Epoch done!!\n",
      "cuda\n",
      "Eval ROC done!!\n",
      "Gradient done!!\n",
      "Val loss done!!\n",
      "[Epoch 088] LR: 0.000003 Train Loss: 0.1589 Val ROC-AUC: 0.4835Val Loss:0.1025\n",
      "Epoch started!!\n"
     ]
    },
    {
     "name": "stderr",
     "output_type": "stream",
     "text": [
      "Training: 100%|██████████| 2057/2057 [06:04<00:00,  5.64it/s]\n"
     ]
    },
    {
     "name": "stdout",
     "output_type": "stream",
     "text": [
      "Epoch done!!\n",
      "cuda\n",
      "Eval ROC done!!\n",
      "Gradient done!!\n",
      "Val loss done!!\n",
      "[Epoch 089] LR: 0.000007 Train Loss: 0.1589 Val ROC-AUC: 0.4845Val Loss:0.1013\n",
      "Epoch started!!\n"
     ]
    },
    {
     "name": "stderr",
     "output_type": "stream",
     "text": [
      "Training: 100%|██████████| 2057/2057 [06:06<00:00,  5.62it/s]\n"
     ]
    },
    {
     "name": "stdout",
     "output_type": "stream",
     "text": [
      "Epoch done!!\n",
      "cuda\n",
      "Eval ROC done!!\n",
      "Gradient done!!\n",
      "Val loss done!!\n",
      "[Epoch 090] LR: 0.000009 Train Loss: 0.1590 Val ROC-AUC: 0.4797Val Loss:0.0995\n",
      "Epoch started!!\n"
     ]
    },
    {
     "name": "stderr",
     "output_type": "stream",
     "text": [
      "Training: 100%|██████████| 2057/2057 [06:08<00:00,  5.58it/s]\n"
     ]
    },
    {
     "name": "stdout",
     "output_type": "stream",
     "text": [
      "Epoch done!!\n",
      "cuda\n",
      "Eval ROC done!!\n",
      "Gradient done!!\n",
      "Val loss done!!\n",
      "[Epoch 091] LR: 0.000010 Train Loss: 0.1590 Val ROC-AUC: 0.4796Val Loss:0.1003\n",
      "Epoch started!!\n"
     ]
    },
    {
     "name": "stderr",
     "output_type": "stream",
     "text": [
      "Training: 100%|██████████| 2057/2057 [06:09<00:00,  5.57it/s]\n"
     ]
    },
    {
     "name": "stdout",
     "output_type": "stream",
     "text": [
      "Epoch done!!\n",
      "cuda\n",
      "Eval ROC done!!\n",
      "Gradient done!!\n",
      "Val loss done!!\n",
      "[Epoch 092] LR: 0.000009 Train Loss: 0.1591 Val ROC-AUC: 0.4803Val Loss:0.1012\n",
      "Epoch started!!\n"
     ]
    },
    {
     "name": "stderr",
     "output_type": "stream",
     "text": [
      "Training: 100%|██████████| 2057/2057 [06:05<00:00,  5.62it/s]\n"
     ]
    },
    {
     "name": "stdout",
     "output_type": "stream",
     "text": [
      "Epoch done!!\n",
      "cuda\n",
      "Eval ROC done!!\n",
      "Gradient done!!\n",
      "Val loss done!!\n",
      "[Epoch 093] LR: 0.000007 Train Loss: 0.1590 Val ROC-AUC: 0.4815Val Loss:0.1015\n",
      "Epoch started!!\n"
     ]
    },
    {
     "name": "stderr",
     "output_type": "stream",
     "text": [
      "Training: 100%|██████████| 2057/2057 [06:11<00:00,  5.54it/s]\n"
     ]
    },
    {
     "name": "stdout",
     "output_type": "stream",
     "text": [
      "Epoch done!!\n",
      "cuda\n",
      "Eval ROC done!!\n",
      "Gradient done!!\n",
      "Val loss done!!\n",
      "[Epoch 094] LR: 0.000003 Train Loss: 0.1589 Val ROC-AUC: 0.4816Val Loss:0.1018\n",
      "Epoch started!!\n"
     ]
    },
    {
     "name": "stderr",
     "output_type": "stream",
     "text": [
      "Training:  34%|███▎      | 693/2057 [02:04<04:42,  4.84it/s]"
     ]
    }
   ],
   "source": [
    "val_roc = []\n",
    "val_loss = []\n",
    "train_loss = []\n",
    "# val_acc = []\n",
    "best_val = 0\n",
    "\n",
    "for epoch in range(1, 100):\n",
    "    print(\"Epoch started!!\")\n",
    "    loss = train_epoch(model, train_loader, optimizer, device)\n",
    "    print(\"Epoch done!!\")\n",
    "    val_rocauc = evaluate(model, valid_loader, device)\n",
    "    print(\"Eval ROC done!!\")\n",
    "    current_lr = scheduler.get_last_lr()[0]\n",
    "    print(\"Gradient done!!\")\n",
    "    val_loss_ = get_eval_loss(model, valid_loader, device)\n",
    "    print(\"Val loss done!!\")\n",
    "    val_loss.append(val_loss_)\n",
    "    # val_acc.append(val_acc_)\n",
    "\n",
    "    log_msg = (\n",
    "        f\"[Epoch {epoch:03d}] \"\n",
    "        f\"LR: {current_lr:.6f} \"\n",
    "        f\"Train Loss: {loss:.4f} \"\n",
    "        f\"Val ROC-AUC: {val_rocauc:.4f}\"\n",
    "        f\"Val Loss:{val_loss_:.4f}\"\n",
    "        # f\"Val accuracy: {val_acc_:.4f}\"\n",
    "    )\n",
    "    print(log_msg)\n",
    "\n",
    "    # Save best model\n",
    "    if val_rocauc > best_val:\n",
    "        best_val = val_rocauc\n",
    "        torch.save({\n",
    "            'epoch': epoch,\n",
    "            'model_state_dict': model.state_dict(),\n",
    "            'optimizer_state_dict': optimizer.state_dict(),\n",
    "            'scheduler_state_dict': scheduler.state_dict(),\n",
    "            'val_rocauc': val_rocauc\n",
    "        }, \"checkpoints/best_model.pt\")\n",
    "        \n",
    "        print(f\"New best model saved at epoch {epoch} with Val ROC-AUC: {val_rocauc:.4f}\")\n",
    "\n",
    "    val_roc.append(val_rocauc)\n",
    "    train_loss.append(loss)\n",
    "\n",
    "    # Step the scheduler\n",
    "    scheduler.step()\n",
    "\n",
    "final_msg = f\"Training finished. Best Validation ROC-AUC: {best_val:.4f}\"\n",
    "print(final_msg)\n",
    "logging.info(final_msg)"
   ]
  },
  {
   "cell_type": "code",
   "execution_count": null,
   "metadata": {},
   "outputs": [
    {
     "data": {
      "text/plain": [
       "1471.1783208847046"
      ]
     },
     "execution_count": 23,
     "metadata": {},
     "output_type": "execute_result"
    }
   ],
   "source": [
    "os.path.getsize(\"checkpoints/best_model.pt\") / (1024**2)"
   ]
  }
 ],
 "metadata": {
  "kernelspec": {
   "display_name": "hbt",
   "language": "python",
   "name": "python3"
  },
  "language_info": {
   "codemirror_mode": {
    "name": "ipython",
    "version": 3
   },
   "file_extension": ".py",
   "mimetype": "text/x-python",
   "name": "python",
   "nbconvert_exporter": "python",
   "pygments_lexer": "ipython3",
   "version": "3.11.11"
  }
 },
 "nbformat": 4,
 "nbformat_minor": 5
}
